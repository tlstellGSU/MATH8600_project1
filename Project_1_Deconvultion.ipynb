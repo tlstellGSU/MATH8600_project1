{
 "cells": [
  {
   "cell_type": "code",
   "execution_count": 1,
   "metadata": {},
   "outputs": [],
   "source": [
    "using Pkg\n",
    "\n",
    "using Flux\n",
    "using MLDatasets\n",
    "using Images\n",
    "using Zygote"
   ]
  },
  {
   "cell_type": "code",
   "execution_count": 2,
   "metadata": {},
   "outputs": [],
   "source": [
    "train_X, train_y = MNIST(split=:train)[:]\n",
    "test_X, test_y = MNIST(split=:test)[:]\n",
    "\n",
    "# Normalize the images to the range [0, 1] and convert to Float32\n",
    "train_X = Float32.(train_X ./ 255.0)\n",
    "test_X = Float32.(test_X ./ 255.0)\n",
    "\n",
    "# Reshape the data to match the expected input dimensions (length, channels, batch_size)\n",
    "train_X = reshape(train_X, size(train_X, 1) * size(train_X, 2), 1, size(train_X, 3))\n",
    "test_X = reshape(test_X, size(test_X, 1) * size(test_X, 2), 1, size(test_X, 3))\n",
    "\n",
    "# Ensure train_y and test_y are in the correct format\n",
    "train_y = Flux.onehotbatch(train_y, 0:9)\n",
    "test_y = Flux.onehotbatch(test_y, 0:9)\n",
    "\n",
    ";"
   ]
  },
  {
   "cell_type": "code",
   "execution_count": 3,
   "metadata": {},
   "outputs": [],
   "source": [
    "model = Chain(\n",
    "    Dense(784, 128, relu),\n",
    "    Dense(128, 256, relu),\n",
    "    x -> reshape(x, (4, 4, 16, size(x, 2))), # Correct Reshape\n",
    "    ConvTranspose((3, 3), 16 => 256, relu, pad=1),\n",
    "    Upsample((2, 2)),\n",
    "    ConvTranspose((3, 3), 256 => 128, relu, pad=1),\n",
    "    Upsample((2, 2)),\n",
    "    ConvTranspose((4, 4), 128 => 1, pad=1), # Adjusted kernel size and padding\n",
    "    x -> reshape(x, (28, 28, 1, size(x, 4))),\n",
    "    x -> x[:, :, 1, :]\n",
    ")\n"
   ]
  },
  {
   "cell_type": "code",
   "execution_count": null,
   "metadata": {},
   "outputs": [],
   "source": [
    "loss(m, x, y) = mse(m(x), y)\n",
    "\n",
    "opt = ADAM();"
   ]
  },
  {
   "cell_type": "code",
   "execution_count": null,
   "metadata": {},
   "outputs": [],
   "source": [
    "function train_model!(model, train_X, train_Y, opt, epochs, batch_size)\n",
    "    data_loader = Flux.DataLoader((train_X, train_Y), batchsize=batch_size, shuffle=true)\n",
    "    \n",
    "    opt_state = Flux.setup(opt, model)  \n",
    "    total_loss = []\n",
    "\n",
    "    for epoch in 1:epochs\n",
    "        epoch_loss = 0\n",
    "        for (x, y) in data_loader\n",
    "            gs = Flux.gradient(model -> Flux.Losses.mse(model(x), y), model)[1]  \n",
    "            Flux.update!(opt_state, Flux.trainable(model), gs)\n",
    "            epoch_loss += Flux.Losses.mse(model(x), y)\n",
    "        end\n",
    "        println(\"Epoch $epoch complete\")\n",
    "        push!(total_loss, epoch_loss)\n",
    "    end\n",
    "    return total_loss\n",
    "end;"
   ]
  },
  {
   "cell_type": "code",
   "execution_count": null,
   "metadata": {},
   "outputs": [],
   "source": [
    "epochs = 3\n",
    "batch_size = 64\n",
    ";"
   ]
  },
  {
   "cell_type": "code",
   "execution_count": null,
   "metadata": {},
   "outputs": [],
   "source": [
    "loss_list = train_model!(model, train_X, train_y, opt, epochs, batch_size);"
   ]
  }
 ],
 "metadata": {
  "kernelspec": {
   "display_name": "Julia 1.11.2",
   "language": "julia",
   "name": "julia-1.11"
  },
  "language_info": {
   "file_extension": ".jl",
   "mimetype": "application/julia",
   "name": "julia",
   "version": "1.11.2"
  }
 },
 "nbformat": 4,
 "nbformat_minor": 2
}
