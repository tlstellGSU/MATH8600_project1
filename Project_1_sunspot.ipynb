{
 "cells": [
  {
   "cell_type": "code",
   "execution_count": 1,
   "metadata": {},
   "outputs": [],
   "source": [
    "import Pkg\n",
    "\n",
    "#Pkg.add(\"Optimisers\")\n",
    "\n",
    "using Flux\n",
    "using Flux: onehotbatch, onecold, crossentropy\n",
    "using MLDatasets\n",
    "using CSV\n",
    "using Random\n",
    "using DataFrames\n",
    "using Optimisers\n",
    "using Statistics\n",
    "using Plots\n"
   ]
  },
  {
   "cell_type": "code",
   "execution_count": 2,
   "metadata": {},
   "outputs": [],
   "source": [
    "sunspot_data = CSV.read(\"Sunspot_data.csv\", DataFrame)\n",
    "\n",
    "sunspots = sunspot_data[:, 3];"
   ]
  },
  {
   "cell_type": "code",
   "execution_count": 3,
   "metadata": {},
   "outputs": [],
   "source": [
    "function create_sequences(data, seq_len)\n",
    "    X, y = [], []\n",
    "    for i in 1:(length(data) - seq_len)\n",
    "        push!(X, data[i:i+seq_len-1])\n",
    "        push!(y, data[i+seq_len])\n",
    "    end\n",
    "    return hcat(X...), y  # Convert to matrix form\n",
    "end\n",
    "\n",
    "seq_len = 50  # Lookback window\n",
    "X, y = create_sequences(sunspots, seq_len)\n",
    "\n",
    "# Normalize\n",
    "X = (X .- mean(X)) ./ std(X)\n",
    "y = (y .- mean(y)) ./ std(y)\n",
    "\n",
    "train_ratio = 0.8\n",
    "\n",
    "\n",
    "split_var = Int(train_ratio * size(X, 2))\n",
    "\n",
    "X_train, y_train = X[:, 1:split_var], y[1:split_var]\n",
    "X_test, y_test = X[:, split_var+1:end], y[split_var+1:end]\n",
    "\n",
    "X_train = reshape(X_train, size(X_train, 1), 1, size(X_train, 2))\n",
    "X_test = reshape(X_test, size(X_test, 1), 1, size(X_test, 2))\n",
    "\n",
    "y_train = reshape(y_train, 1, length(y_train))  # Convert to (1, batch_size)\n",
    "y_test = reshape(y_test, 1, length(y_test))    # Convert to (1, batch_size)\n",
    ";"
   ]
  },
  {
   "cell_type": "code",
   "execution_count": 5,
   "metadata": {},
   "outputs": [],
   "source": [
    "model = Chain(\n",
    "    Conv((5,), 1=>16, relu),\n",
    "    MaxPool((2,)),\n",
    "    Conv((3,), 16=>32, relu),\n",
    "    MaxPool((2,)),\n",
    "    Flux.flatten,\n",
    "    Dense(320, 64, relu),  # Use 320 instead of 32\n",
    "    Dense(64, 10, relu),\n",
    "    Dense(10, 1),\n",
    "     )    # Output a single prediction)\n",
    ";"
   ]
  },
  {
   "cell_type": "code",
   "execution_count": null,
   "metadata": {},
   "outputs": [],
   "source": [
    "epochs = 300\n",
    "batch_size = 64;"
   ]
  },
  {
   "cell_type": "code",
   "execution_count": null,
   "metadata": {},
   "outputs": [],
   "source": [
    "opt = ADAM()\n",
    "\n",
    "data_loader = Flux.DataLoader((X_train, y_train), batchsize=batch_size, shuffle=true)\n",
    "\n",
    "# Initialize optimizer state\n",
    "opt_state = Flux.setup(opt, model)  \n",
    "\n",
    "total_loss = []\n",
    "\n",
    "for epoch in 1:epochs\n",
    "    epoch_loss = 0\n",
    "    for (x, y) in data_loader\n",
    "        gs = Flux.gradient(model -> Flux.Losses.mse(model(x), y), model)[1]  \n",
    "        Flux.update!(opt_state, Flux.trainable(model), gs)\n",
    "        epoch_loss += Flux.Losses.mse(model(x), y)\n",
    "    end\n",
    "    println(\"Epoch $epoch - Train Loss: $epoch_loss\")\n",
    "    push!(total_loss, epoch_loss)\n",
    "end\n"
   ]
  },
  {
   "cell_type": "code",
   "execution_count": null,
   "metadata": {},
   "outputs": [],
   "source": [
    "preds = model(X_test);\n"
   ]
  },
  {
   "cell_type": "code",
   "execution_count": null,
   "metadata": {},
   "outputs": [],
   "source": [
    "scatter(1:length(y_test[1, :]), y_test[1, :], label=\"Actual\", title=\"Sunspot Prediction\")\n",
    "scatter!(1:length(preds[1, :]), preds[1, :], label=\"Predicted\")"
   ]
  },
  {
   "cell_type": "code",
   "execution_count": null,
   "metadata": {},
   "outputs": [],
   "source": [
    "p1 = plot(1:epochs, total_loss, xlabel=\"Epoch\", ylabel=\"Loss\", title=\"Loss vs. Epoch\", legend=false, xticks=false, yticks=false)\n",
    "display(p1)"
   ]
  }
 ],
 "metadata": {
  "kernelspec": {
   "display_name": "Julia 1.11.2",
   "language": "julia",
   "name": "julia-1.11"
  },
  "language_info": {
   "file_extension": ".jl",
   "mimetype": "application/julia",
   "name": "julia",
   "version": "1.11.2"
  }
 },
 "nbformat": 4,
 "nbformat_minor": 2
}
