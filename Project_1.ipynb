{
 "cells": [
  {
   "cell_type": "code",
   "execution_count": 1,
   "metadata": {},
   "outputs": [],
   "source": [
    "import Pkg\n",
    "\n",
    "#Pkg.add(\"Zygote\")\n",
    "\n",
    "using Zygote\n",
    "using Flux\n",
    "using Flux: onehotbatch, onecold, crossentropy\n",
    "using MLDatasets\n",
    "#using CUDA\n",
    "using Statistics"
   ]
  },
  {
   "cell_type": "code",
   "execution_count": 2,
   "metadata": {},
   "outputs": [],
   "source": [
    "train_x, train_y = MNIST(split=:train)[:]\n",
    "test_x, test_y = MNIST(split=:test)[:]\n",
    "\n",
    "train_x = float.(train_x) ./ 255.0\n",
    "test_x = float.(test_x) ./ 255.0\n",
    "\n",
    "train_x = reshape(train_x, 28, 28, 1, :);\n",
    "test_x = reshape(test_x, 28, 28, 1, :);\n",
    "\n",
    "train_y = onehotbatch(train_y, 0:9);\n",
    "test_y = onehotbatch(test_y, 0:9);\n"
   ]
  },
  {
   "cell_type": "code",
   "execution_count": 3,
   "metadata": {},
   "outputs": [
    {
     "data": {
      "text/plain": [
       "Adam(eta=0.001, beta=(0.9, 0.999), epsilon=1.0e-8)"
      ]
     },
     "execution_count": 3,
     "metadata": {},
     "output_type": "execute_result"
    }
   ],
   "source": [
    "conv1 = Conv((3,3), 1=>16, relu)\n",
    "pool1 = MaxPool((2,2))\n",
    "conv2 = Conv((3,3), 16=>32, relu)\n",
    "pool2 = MaxPool((2,2))\n",
    "conv3 = Conv((3,3), 32=>64, relu)\n",
    "pool3 = MaxPool((2,2))\n",
    "flatten = Flux.flatten\n",
    "dense1 = Dense(64, 128, relu)\n",
    "dense2 = Dense(128, 10)\n",
    "softmax_layer = softmax\n",
    "\n",
    "model = Chain(conv1, pool1, conv2, pool2, conv3, pool3, flatten, dense1, dense2, softmax_layer)\n",
    "\n",
    "loss(x,y) = crossentropy(model(x), y)\n",
    "opt = ADAM()"
   ]
  },
  {
   "cell_type": "code",
   "execution_count": 4,
   "metadata": {},
   "outputs": [
    {
     "data": {
      "text/plain": [
       "visualize_layers (generic function with 1 method)"
      ]
     },
     "execution_count": 4,
     "metadata": {},
     "output_type": "execute_result"
    }
   ],
   "source": [
    "function visualize_layers(model, x)\n",
    "    println(\"Input shape: \", size(x))\n",
    "    x = conv1(x); println(\"After Conv1: \", size(x))\n",
    "    x = pool1(x); println(\"After Pool1: \", size(x))\n",
    "    x = conv2(x); println(\"After Conv2: \", size(x))\n",
    "    x = pool2(x); println(\"After Pool2: \", size(x))\n",
    "    x = flatten(x); println(\"After Flatten: \", size(x))\n",
    "    x = dense1(x); println(\"After Dense1: \", size(x))\n",
    "    x = dense2(x); println(\"After Dense2: \", size(x))\n",
    "    x = softmax_layer(x); println(\"After Softmax: \", size(x))\n",
    "end\n"
   ]
  },
  {
   "cell_type": "code",
   "execution_count": 11,
   "metadata": {},
   "outputs": [
    {
     "data": {
      "text/plain": [
       "train_model! (generic function with 1 method)"
      ]
     },
     "execution_count": 11,
     "metadata": {},
     "output_type": "execute_result"
    }
   ],
   "source": [
    "function train_model!(model, train_X, train_Y, opt, epochs, batch_size)\n",
    "    data_loader = Flux.DataLoader((train_X, train_Y), batchsize=batch_size, shuffle=true)\n",
    "    \n",
    "    opt_state = Flux.setup(opt, model)  \n",
    "\n",
    "    for epoch in 1:epochs\n",
    "        for (x, y) in data_loader\n",
    "            gs = Flux.gradient(model -> Flux.Losses.mse(model(x), y), model)[1]  \n",
    "            Flux.update!(opt_state, Flux.trainable(model), gs)  \n",
    "        end\n",
    "        println(\"Epoch $epoch complete\")\n",
    "    end\n",
    "end\n"
   ]
  },
  {
   "cell_type": "code",
   "execution_count": 12,
   "metadata": {},
   "outputs": [
    {
     "name": "stdout",
     "output_type": "stream",
     "text": [
      "Epoch 1 complete\n",
      "Epoch 2 complete\n",
      "Epoch 3 complete\n"
     ]
    }
   ],
   "source": [
    "train_model!(model, train_x, train_y, opt, 5, 64)\n",
    "\n"
   ]
  },
  {
   "cell_type": "code",
   "execution_count": null,
   "metadata": {},
   "outputs": [],
   "source": [
    "visualize_layers(model, train_x[:, :, :, 1:1])\n",
    "\n",
    "accuracy(x, y) = mean(onecold(model(x)) .== onecold(y))\n",
    "println(\"Test Accuracy: \", accuracy(test_x, test_y))\n"
   ]
  }
 ],
 "metadata": {
  "kernelspec": {
   "display_name": "Julia 1.11.2",
   "language": "julia",
   "name": "julia-1.11"
  },
  "language_info": {
   "file_extension": ".jl",
   "mimetype": "application/julia",
   "name": "julia",
   "version": "1.11.2"
  }
 },
 "nbformat": 4,
 "nbformat_minor": 2
}
