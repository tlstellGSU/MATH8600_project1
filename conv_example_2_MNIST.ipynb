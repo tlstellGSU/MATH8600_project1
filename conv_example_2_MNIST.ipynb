{
 "cells": [
  {
   "cell_type": "code",
   "execution_count": 1,
   "metadata": {},
   "outputs": [],
   "source": [
    "import Pkg\n",
    "\n",
    "#Pkg.add(\"CSV\")\n",
    "#Pkg.add(\"Random\")\n",
    "\n",
    "using Zygote\n",
    "using Flux\n",
    "using Flux: onehotbatch, onecold, crossentropy\n",
    "using MLDatasets\n",
    "#using CUDA\n",
    "using Statistics\n",
    "using Plots\n",
    "using Images\n",
    "using Colors\n",
    "using ImageTransformations\n",
    "using MLUtils\n",
    "using CSV\n",
    "using Random\n",
    "using DataFrames\n"
   ]
  },
  {
   "cell_type": "code",
   "execution_count": 2,
   "metadata": {},
   "outputs": [],
   "source": [
    "train_X, train_y = MNIST(split=:train)[:]\n",
    "test_X, test_y = MNIST(split=:test)[:]\n",
    "\n",
    "# Normalize the images to the range [0, 1] and convert to Float32\n",
    "train_X = Float32.(train_X ./ 255.0)\n",
    "test_X = Float32.(test_X ./ 255.0)\n",
    "\n",
    "# Reshape the data to match the expected input dimensions (length, channels, batch_size)\n",
    "train_X = reshape(train_X, size(train_X, 1) * size(train_X, 2), 1, size(train_X, 3))\n",
    "test_X = reshape(test_X, size(test_X, 1) * size(test_X, 2), 1, size(test_X, 3))\n",
    "\n",
    "train_X = reshape(train_X, 28, 28, 1, size(train_X, 3))\n",
    "test_X  = reshape(test_X, 28, 28, 1, size(test_X, 3))\n",
    "\n",
    ";"
   ]
  },
  {
   "cell_type": "code",
   "execution_count": 3,
   "metadata": {},
   "outputs": [
    {
     "data": {
      "text/plain": [
       "Chain(\n",
       "  Conv((3, 3), 1 => 32, relu, pad=1),   \u001b[90m# 320 parameters\u001b[39m\n",
       "  MaxPool((2, 2)),\n",
       "  Conv((3, 3), 32 => 64, relu, pad=1),  \u001b[90m# 18_496 parameters\u001b[39m\n",
       "  MaxPool((2, 2)),\n",
       "  Flux.flatten,\n",
       "  Dense(3136 => 256, relu),             \u001b[90m# 803_072 parameters\u001b[39m\n",
       "  Dense(256 => 3136, relu),             \u001b[90m# 805_952 parameters\u001b[39m\n",
       "  var\"#1#4\"(),\n",
       "  ConvTranspose((3, 3), 64 => 32, relu, pad=1, stride=2),  \u001b[90m# 18_464 parameters\u001b[39m\n",
       "  ConvTranspose((3, 3), 32 => 1, σ, pad=1, stride=2),  \u001b[90m# 289 parameters\u001b[39m\n",
       "  var\"#2#5\"(),\n",
       "  Dense(625 => 1),                      \u001b[90m# 626 parameters\u001b[39m\n",
       "  var\"#3#6\"(),\n",
       ") \u001b[90m                  # Total: 14 arrays, \u001b[39m1_647_219 parameters, 6.285 MiB."
      ]
     },
     "execution_count": 3,
     "metadata": {},
     "output_type": "execute_result"
    }
   ],
   "source": [
    "model = Chain(\n",
    "    Conv((3, 3), 1=>32, relu, pad=1),  # Increased filters\n",
    "    MaxPool((2,2)),\n",
    "    Conv((3,3), 32=>64, relu, pad=1),  # Increased filters\n",
    "    MaxPool((2,2)),\n",
    "    Flux.flatten,\n",
    "    Dense(7*7*64, 256, relu),  # Increased neurons\n",
    "    Dense(256, 7*7*64, relu),  # Increased neurons\n",
    "    x -> reshape(x, (7, 7, 64, size(x, 2))),\n",
    "    ConvTranspose((3, 3), 64=>32, relu, stride=2, pad=1),\n",
    "    ConvTranspose((3, 3), 32=>1, σ, stride=2, pad=1),\n",
    "    x -> reshape(x, :, size(x, 4)),\n",
    "    Dense(25*25, 1),\n",
    "    x -> reshape(x, size(x, 2))\n",
    ")\n",
    "\n"
   ]
  },
  {
   "cell_type": "code",
   "execution_count": 4,
   "metadata": {},
   "outputs": [],
   "source": [
    "\n",
    "opt = ADAM();"
   ]
  },
  {
   "cell_type": "code",
   "execution_count": 5,
   "metadata": {},
   "outputs": [
    {
     "data": {
      "text/plain": [
       "train_model! (generic function with 1 method)"
      ]
     },
     "execution_count": 5,
     "metadata": {},
     "output_type": "execute_result"
    }
   ],
   "source": [
    "function train_model!(model, train_X, train_Y, opt, epochs, batch_size)\n",
    "    data_loader = Flux.DataLoader((train_X, train_Y), batchsize=batch_size, shuffle=true)\n",
    "    \n",
    "    opt_state = Flux.setup(opt, model)  \n",
    "    total_loss = []\n",
    "\n",
    "    for epoch in 1:epochs\n",
    "        epoch_loss = 0\n",
    "        for (x, y) in data_loader\n",
    "            gs = Flux.gradient(model -> Flux.Losses.mse(model(x), y), model)[1]  # Compute gradient for loss\n",
    "            Flux.update!(opt_state, Flux.trainable(model), gs)  # Update model parameters\n",
    "            epoch_loss += Flux.Losses.mse(model(x), y)  # Add loss for this batch\n",
    "        end\n",
    "        println(\"Epoch $epoch complete, Loss: $(epoch_loss)\")\n",
    "        push!(total_loss, epoch_loss)  # Track total loss over epochs\n",
    "    end\n",
    "    return total_loss\n",
    "end"
   ]
  },
  {
   "cell_type": "code",
   "execution_count": 6,
   "metadata": {},
   "outputs": [],
   "source": [
    "epochs = 50\n",
    "batch_size = 64\n",
    ";"
   ]
  },
  {
   "cell_type": "code",
   "execution_count": 8,
   "metadata": {},
   "outputs": [],
   "source": [
    "loss_list = train_model!(model, train_X, train_y, opt, epochs, batch_size);"
   ]
  },
  {
   "cell_type": "code",
   "execution_count": null,
   "metadata": {},
   "outputs": [],
   "source": [
    "p1 = plot(1:epochs, loss_list, xlabel=\"Epoch\", ylabel=\"Loss\", title=\"Loss vs. Epoch\", legend=false, xticks=false, yticks=false)\n",
    "display(p1)"
   ]
  },
  {
   "cell_type": "code",
   "execution_count": null,
   "metadata": {},
   "outputs": [],
   "source": [
    "#visualize_layers(model, train_x[:, :, :, 1:1])\n",
    "\n",
    "accuracy(x, y) = mean(onecold(model(x)) .== onecold(y))\n",
    "println(\"Test Accuracy: \", accuracy(test_x, test_y))\n"
   ]
  }
 ],
 "metadata": {
  "kernelspec": {
   "display_name": "Julia 1.11.2",
   "language": "julia",
   "name": "julia-1.11"
  },
  "language_info": {
   "file_extension": ".jl",
   "mimetype": "application/julia",
   "name": "julia",
   "version": "1.11.2"
  }
 },
 "nbformat": 4,
 "nbformat_minor": 2
}
