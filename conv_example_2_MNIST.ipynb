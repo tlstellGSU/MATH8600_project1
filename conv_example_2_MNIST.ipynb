{
 "cells": [
  {
   "cell_type": "code",
   "execution_count": 41,
   "metadata": {},
   "outputs": [],
   "source": [
    "import Pkg\n",
    "\n",
    "#Pkg.add(\"CSV\")\n",
    "#Pkg.add(\"Random\")\n",
    "\n",
    "using Zygote\n",
    "using Flux\n",
    "using Flux: onehotbatch, onecold, crossentropy\n",
    "using MLDatasets\n",
    "#using CUDA\n",
    "using Statistics\n",
    "using Plots\n",
    "using Images\n",
    "using Colors\n",
    "using ImageTransformations\n",
    "using MLUtils\n",
    "using CSV\n",
    "using Random\n",
    "using DataFrames\n"
   ]
  },
  {
   "cell_type": "code",
   "execution_count": 42,
   "metadata": {},
   "outputs": [],
   "source": [
    "train_X, train_y = MNIST(split=:train)[:]\n",
    "test_X, test_y = MNIST(split=:test)[:]\n",
    "\n",
    "# Normalize the images to the range [0, 1] and convert to Float32\n",
    "train_X = Float32.(train_X ./ 255.0)\n",
    "test_X = Float32.(test_X ./ 255.0)\n",
    "\n",
    "# Reshape the data to match the expected input dimensions (length, channels, batch_size)\n",
    "train_X = reshape(train_X, size(train_X, 1) * size(train_X, 2), 1, size(train_X, 3))\n",
    "test_X = reshape(test_X, size(test_X, 1) * size(test_X, 2), 1, size(test_X, 3))\n",
    "\n",
    "train_X = reshape(train_X, 28, 28, 1, size(train_X, 3))\n",
    "test_X  = reshape(test_X, 28, 28, 1, size(test_X, 3))\n",
    "\n",
    "train_y = onehotbatch(train_y, 0:9)  # Convert labels to one-hot encoding\n",
    "test_y = onehotbatch(test_y, 0:9)\n",
    "\n",
    ";"
   ]
  },
  {
   "cell_type": "code",
   "execution_count": 43,
   "metadata": {},
   "outputs": [
    {
     "data": {
      "text/plain": [
       "Chain(\n",
       "  Conv((3, 3), 1 => 16, relu, pad=1),   \u001b[90m# 160 parameters\u001b[39m\n",
       "  MaxPool((2, 2)),\n",
       "  BatchNorm(16),                        \u001b[90m# 32 parameters\u001b[39m\u001b[90m, plus 32\u001b[39m\n",
       "  Conv((3, 3), 16 => 32, relu, pad=1),  \u001b[90m# 4_640 parameters\u001b[39m\n",
       "  MaxPool((2, 2)),\n",
       "  BatchNorm(32),                        \u001b[90m# 64 parameters\u001b[39m\u001b[90m, plus 64\u001b[39m\n",
       "  Conv((3, 3), 32 => 64, relu, pad=1),  \u001b[90m# 18_496 parameters\u001b[39m\n",
       "  MaxPool((2, 2)),\n",
       "  BatchNorm(64),                        \u001b[90m# 128 parameters\u001b[39m\u001b[90m, plus 128\u001b[39m\n",
       "  Conv((3, 3), 64 => 128, relu, pad=1),  \u001b[90m# 73_856 parameters\u001b[39m\n",
       "  MaxPool((2, 2)),\n",
       "  BatchNorm(128),                       \u001b[90m# 256 parameters\u001b[39m\u001b[90m, plus 256\u001b[39m\n",
       "  Flux.flatten,\n",
       "  Dense(128 => 256, relu),              \u001b[90m# 33_024 parameters\u001b[39m\n",
       "  Dense(256 => 10),                     \u001b[90m# 2_570 parameters\u001b[39m\n",
       "  NNlib.softmax,\n",
       ") \u001b[90m        # Total: 20 trainable arrays, \u001b[39m133_226 parameters,\n",
       "\u001b[90m          # plus 8 non-trainable, 480 parameters, summarysize \u001b[39m524.367 KiB."
      ]
     },
     "execution_count": 43,
     "metadata": {},
     "output_type": "execute_result"
    }
   ],
   "source": [
    "conv1 = Conv((3,3), 1=>16, relu, pad=1)\n",
    "pool1 = MaxPool((2,2))\n",
    "conv2 = Conv((3,3), 16=>32, relu, pad=1)\n",
    "pool2 = MaxPool((2,2))\n",
    "conv3 = Conv((3,3), 32=>64, relu, pad=1)\n",
    "pool3 = MaxPool((2,2))\n",
    "conv4 = Conv((3,3), 64=>128, relu, pad=1)\n",
    "pool4 = MaxPool((2,2))\n",
    "flatten = Flux.flatten\n",
    "dense1 = Dense(128, 256, relu)\n",
    "dense3 = Dense(256, 10)\n",
    "\n",
    "model = Chain(\n",
    "    conv1,\n",
    "    pool1,\n",
    "    BatchNorm(16),\n",
    "    conv2,\n",
    "    pool2,\n",
    "    BatchNorm(32),\n",
    "    conv3,\n",
    "    pool3,\n",
    "    BatchNorm(64),\n",
    "    conv4,\n",
    "    pool4,\n",
    "    BatchNorm(128),\n",
    "    flatten,\n",
    "    dense1,\n",
    "    dense3,\n",
    "    softmax\n",
    ")\n"
   ]
  },
  {
   "cell_type": "code",
   "execution_count": 61,
   "metadata": {},
   "outputs": [],
   "source": [
    "\n",
    "opt = ADAM(0.001);"
   ]
  },
  {
   "cell_type": "code",
   "execution_count": 62,
   "metadata": {},
   "outputs": [
    {
     "data": {
      "text/plain": [
       "train_model! (generic function with 1 method)"
      ]
     },
     "execution_count": 62,
     "metadata": {},
     "output_type": "execute_result"
    }
   ],
   "source": [
    "function train_model!(model, train_X, train_Y, opt, epochs, batch_size)\n",
    "    data_loader = Flux.DataLoader((train_X, train_y), batchsize=batch_size, shuffle=true)\n",
    "        \n",
    "    opt_state = Flux.setup(opt, model)  \n",
    "    total_loss = []\n",
    "\n",
    "    for epoch in 1:epochs\n",
    "        epoch_loss = 0\n",
    "        for (x, y) in data_loader\n",
    "            gs = Flux.gradient(model -> Flux.Losses.crossentropy(model(x), y), model)[1]  # Compute gradient for loss\n",
    "            Flux.update!(opt_state, Flux.trainable(model), gs)  # Update model parameters\n",
    "            epoch_loss += Flux.Losses.crossentropy(model(x), y)  # Add loss for this batch\n",
    "        end\n",
    "        println(\"Epoch $epoch complete, Loss: $(epoch_loss)\")\n",
    "        push!(total_loss, epoch_loss)  # Track total loss over epochs\n",
    "    end\n",
    "    return total_loss\n",
    "end"
   ]
  },
  {
   "cell_type": "code",
   "execution_count": 67,
   "metadata": {},
   "outputs": [],
   "source": [
    "epochs = 10\n",
    "batch_size = 64\n",
    ";"
   ]
  },
  {
   "cell_type": "code",
   "execution_count": 68,
   "metadata": {},
   "outputs": [
    {
     "name": "stdout",
     "output_type": "stream",
     "text": [
      "Epoch 1 complete, Loss: 6778.6235\n",
      "Epoch 2 complete, Loss: 6313.6606\n",
      "Epoch 3 complete, Loss: 6407.0894\n",
      "Epoch 4 complete, Loss: 5784.982\n",
      "Epoch 5 complete, Loss: 4424.253\n",
      "Epoch 6 complete, Loss: 3729.6323\n",
      "Epoch 7 complete, Loss: 1729.6567\n",
      "Epoch 8 complete, Loss: 3152.7139\n",
      "Epoch 9 complete, Loss: 3017.59\n",
      "Epoch 10 complete, Loss: 2424.3389\n"
     ]
    }
   ],
   "source": [
    "loss_list = train_model!(model, train_X, train_y, opt, epochs, batch_size);"
   ]
  },
  {
   "cell_type": "code",
   "execution_count": 69,
   "metadata": {},
   "outputs": [
    {
     "data": {
      "image/png": "[encoded data removed]",
      "image/svg+xml": [
       "<?xml version=\"1.0\" encoding=\"utf-8\"?>\n",
       "<svg xmlns=\"http://www.w3.org/2000/svg\" xmlns:xlink=\"http://www.w3.org/1999/xlink\" width=\"600\" height=\"400\" viewBox=\"0 0 2400 1600\">\n",
       "<defs>\n",
       "  <clipPath id=\"clip900\">\n",
       "    <rect x=\"0\" y=\"0\" width=\"2400\" height=\"1600\"/>\n",
       "  </clipPath>\n",
       "</defs>\n",
       "<path clip-path=\"url(#clip900)\" d=\"M0 1600 L2400 1600 L2400 8.88178e-14 L0 8.88178e-14  Z\" fill=\"#ffffff\" fill-rule=\"evenodd\" fill-opacity=\"1\"/>\n",
       "<defs>\n",
       "  <clipPath id=\"clip901\">\n",
       "    <rect x=\"480\" y=\"0\" width=\"1681\" height=\"1600\"/>\n",
       "  </clipPath>\n",
       "</defs>\n",
       "<path clip-path=\"url(#clip900)\" d=\"M110.512 1489.49 L2352.76 1489.49 L2352.76 123.472 L110.512 123.472  Z\" fill=\"#ffffff\" fill-rule=\"evenodd\" fill-opacity=\"1\"/>\n",
       "<defs>\n",
       "  <clipPath id=\"clip902\">\n",
       "    <rect x=\"110\" y=\"123\" width=\"2243\" height=\"1367\"/>\n",
       "  </clipPath>\n",
       "</defs>\n",
       "<polyline clip-path=\"url(#clip900)\" style=\"stroke:#000000; stroke-linecap:round; stroke-linejoin:round; stroke-width:4; stroke-opacity:1; fill:none\" points=\"110.512,1489.49 2352.76,1489.49 \"/>\n",
       "<path clip-path=\"url(#clip900)\" d=\"M1137.8 1534.99 L1167.85 1534.99 L1167.85 1540.4 L1144.23 1540.4 L1144.23 1554.47 L1166.86 1554.47 L1166.86 1559.88 L1144.23 1559.88 L1144.23 1577.1 L1168.42 1577.1 L1168.42 1582.51 L1137.8 1582.51 L1137.8 1534.99 Z\" fill=\"#000000\" fill-rule=\"nonzero\" fill-opacity=\"1\" /><path clip-path=\"url(#clip900)\" d=\"M1184.4 1577.16 L1184.4 1596.07 L1178.51 1596.07 L1178.51 1546.86 L1184.4 1546.86 L1184.4 1552.27 Q1186.25 1549.09 1189.05 1547.56 Q1191.88 1546 1195.8 1546 Q1202.29 1546 1206.33 1551.16 Q1210.4 1556.32 1210.4 1564.72 Q1210.4 1573.12 1206.33 1578.28 Q1202.29 1583.43 1195.8 1583.43 Q1191.88 1583.43 1189.05 1581.91 Q1186.25 1580.35 1184.4 1577.16 M1204.33 1564.72 Q1204.33 1558.26 1201.65 1554.6 Q1199.01 1550.91 1194.36 1550.91 Q1189.72 1550.91 1187.04 1554.6 Q1184.4 1558.26 1184.4 1564.72 Q1184.4 1571.18 1187.04 1574.87 Q1189.72 1578.53 1194.36 1578.53 Q1199.01 1578.53 1201.65 1574.87 Q1204.33 1571.18 1204.33 1564.72 Z\" fill=\"#000000\" fill-rule=\"nonzero\" fill-opacity=\"1\" /><path clip-path=\"url(#clip900)\" d=\"M1233.93 1550.97 Q1229.22 1550.97 1226.48 1554.66 Q1223.74 1558.32 1223.74 1564.72 Q1223.74 1571.12 1226.45 1574.81 Q1229.18 1578.47 1233.93 1578.47 Q1238.6 1578.47 1241.34 1574.78 Q1244.08 1571.09 1244.08 1564.72 Q1244.08 1558.39 1241.34 1554.69 Q1238.6 1550.97 1233.93 1550.97 M1233.93 1546 Q1241.56 1546 1245.93 1550.97 Q1250.29 1555.94 1250.29 1564.72 Q1250.29 1573.47 1245.93 1578.47 Q1241.56 1583.43 1233.93 1583.43 Q1226.25 1583.43 1221.89 1578.47 Q1217.57 1573.47 1217.57 1564.72 Q1217.57 1555.94 1221.89 1550.97 Q1226.25 1546 1233.93 1546 Z\" fill=\"#000000\" fill-rule=\"nonzero\" fill-opacity=\"1\" /><path clip-path=\"url(#clip900)\" d=\"M1285.65 1548.23 L1285.65 1553.71 Q1283.16 1552.34 1280.65 1551.67 Q1278.17 1550.97 1275.62 1550.97 Q1269.92 1550.97 1266.77 1554.6 Q1263.62 1558.19 1263.62 1564.72 Q1263.62 1571.24 1266.77 1574.87 Q1269.92 1578.47 1275.62 1578.47 Q1278.17 1578.47 1280.65 1577.8 Q1283.16 1577.1 1285.65 1575.73 L1285.65 1581.14 Q1283.2 1582.29 1280.55 1582.86 Q1277.94 1583.43 1274.98 1583.43 Q1266.93 1583.43 1262.19 1578.37 Q1257.45 1573.31 1257.45 1564.72 Q1257.45 1556 1262.22 1551 Q1267.03 1546 1275.37 1546 Q1278.07 1546 1280.65 1546.58 Q1283.23 1547.12 1285.65 1548.23 Z\" fill=\"#000000\" fill-rule=\"nonzero\" fill-opacity=\"1\" /><path clip-path=\"url(#clip900)\" d=\"M1325.46 1561 L1325.46 1582.51 L1319.61 1582.51 L1319.61 1561.19 Q1319.61 1556.13 1317.63 1553.61 Q1315.66 1551.1 1311.71 1551.1 Q1306.97 1551.1 1304.23 1554.12 Q1301.5 1557.14 1301.5 1562.36 L1301.5 1582.51 L1295.61 1582.51 L1295.61 1532.99 L1301.5 1532.99 L1301.5 1552.4 Q1303.6 1549.19 1306.43 1547.6 Q1309.3 1546 1313.02 1546 Q1319.16 1546 1322.31 1549.82 Q1325.46 1553.61 1325.46 1561 Z\" fill=\"#000000\" fill-rule=\"nonzero\" fill-opacity=\"1\" /><polyline clip-path=\"url(#clip900)\" style=\"stroke:#000000; stroke-linecap:round; stroke-linejoin:round; stroke-width:4; stroke-opacity:1; fill:none\" points=\"110.512,1489.49 110.512,123.472 \"/>\n",
       "<path clip-path=\"url(#clip900)\" d=\"M-23.2639 873.177 L-23.2639 866.747 L18.8453 866.747 L18.8453 843.608 L24.2561 843.608 L24.2561 873.177 L-23.2639 873.177 Z\" fill=\"#000000\" fill-rule=\"nonzero\" fill-opacity=\"1\" /><path clip-path=\"url(#clip900)\" d=\"M-7.28595 824.447 Q-7.28595 829.158 -3.59384 831.895 Q0.0664408 834.632 6.46398 834.632 Q12.8615 834.632 16.5536 831.927 Q20.2139 829.19 20.2139 824.447 Q20.2139 819.768 16.5218 817.031 Q12.8297 814.294 6.46398 814.294 Q0.130098 814.294 -3.56201 817.031 Q-7.28595 819.768 -7.28595 824.447 M-12.2512 824.447 Q-12.2512 816.808 -7.28595 812.448 Q-2.3207 808.087 6.46398 808.087 Q15.2168 808.087 20.2139 812.448 Q25.1792 816.808 25.1792 824.447 Q25.1792 832.118 20.2139 836.478 Q15.2168 840.807 6.46398 840.807 Q-2.3207 840.807 -7.28595 836.478 Q-12.2512 832.118 -12.2512 824.447 Z\" fill=\"#000000\" fill-rule=\"nonzero\" fill-opacity=\"1\" /><path clip-path=\"url(#clip900)\" d=\"M-10.3415 775.654 L-4.80332 775.654 Q-6.07647 778.137 -6.71304 780.81 Q-7.34961 783.484 -7.34961 786.348 Q-7.34961 790.709 -6.01281 792.905 Q-4.67601 795.069 -2.00241 795.069 Q0.0346123 795.069 1.21227 793.51 Q2.3581 791.95 3.40844 787.24 L3.85404 785.234 Q5.19083 778.996 7.64163 776.386 Q10.0606 773.744 14.4211 773.744 Q19.3864 773.744 22.2828 777.691 Q25.1792 781.606 25.1792 788.481 Q25.1792 791.346 24.6062 794.465 Q24.0652 797.552 22.9512 800.99 L16.9037 800.99 Q18.5906 797.743 19.45 794.592 Q20.2776 791.441 20.2776 788.354 Q20.2776 784.216 18.8771 781.988 Q17.4448 779.76 14.8667 779.76 Q12.4796 779.76 11.2064 781.383 Q9.93329 782.975 8.75563 788.417 L8.2782 790.454 Q7.13238 795.897 4.77706 798.316 Q2.38992 800.735 -1.74779 800.735 Q-6.77669 800.735 -9.51395 797.17 Q-12.2512 793.605 -12.2512 787.049 Q-12.2512 783.802 -11.7738 780.938 Q-11.2963 778.073 -10.3415 775.654 Z\" fill=\"#000000\" fill-rule=\"nonzero\" fill-opacity=\"1\" /><path clip-path=\"url(#clip900)\" d=\"M-10.3415 741.693 L-4.80332 741.693 Q-6.07647 744.176 -6.71304 746.849 Q-7.34961 749.523 -7.34961 752.387 Q-7.34961 756.748 -6.01281 758.944 Q-4.67601 761.108 -2.00241 761.108 Q0.0346123 761.108 1.21227 759.549 Q2.3581 757.989 3.40844 753.279 L3.85404 751.273 Q5.19083 745.035 7.64163 742.425 Q10.0606 739.783 14.4211 739.783 Q19.3864 739.783 22.2828 743.73 Q25.1792 747.645 25.1792 754.52 Q25.1792 757.384 24.6062 760.504 Q24.0652 763.591 22.9512 767.029 L16.9037 767.029 Q18.5906 763.782 19.45 760.631 Q20.2776 757.48 20.2776 754.393 Q20.2776 750.255 18.8771 748.027 Q17.4448 745.799 14.8667 745.799 Q12.4796 745.799 11.2064 747.422 Q9.93329 749.014 8.75563 754.456 L8.2782 756.493 Q7.13238 761.936 4.77706 764.355 Q2.38992 766.774 -1.74779 766.774 Q-6.77669 766.774 -9.51395 763.209 Q-12.2512 759.644 -12.2512 753.088 Q-12.2512 749.841 -11.7738 746.977 Q-11.2963 744.112 -10.3415 741.693 Z\" fill=\"#000000\" fill-rule=\"nonzero\" fill-opacity=\"1\" /><path clip-path=\"url(#clip900)\" d=\"M935.513 12.096 L943.696 12.096 L943.696 65.6895 L973.146 65.6895 L973.146 72.576 L935.513 72.576 L935.513 12.096 Z\" fill=\"#000000\" fill-rule=\"nonzero\" fill-opacity=\"1\" /><path clip-path=\"url(#clip900)\" d=\"M997.532 32.4315 Q991.537 32.4315 988.053 37.1306 Q984.569 41.7891 984.569 49.9314 Q984.569 58.0738 988.013 62.7728 Q991.496 67.4314 997.532 67.4314 Q1003.49 67.4314 1006.97 62.7323 Q1010.45 58.0333 1010.45 49.9314 Q1010.45 41.8701 1006.97 37.1711 Q1003.49 32.4315 997.532 32.4315 M997.532 26.1121 Q1007.25 26.1121 1012.8 32.4315 Q1018.35 38.7509 1018.35 49.9314 Q1018.35 61.0714 1012.8 67.4314 Q1007.25 73.7508 997.532 73.7508 Q987.77 73.7508 982.22 67.4314 Q976.711 61.0714 976.711 49.9314 Q976.711 38.7509 982.22 32.4315 Q987.77 26.1121 997.532 26.1121 Z\" fill=\"#000000\" fill-rule=\"nonzero\" fill-opacity=\"1\" /><path clip-path=\"url(#clip900)\" d=\"M1059.63 28.5427 L1059.63 35.5912 Q1056.47 33.9709 1053.07 33.1607 Q1049.67 32.3505 1046.02 32.3505 Q1040.47 32.3505 1037.68 34.0519 Q1034.92 35.7533 1034.92 39.156 Q1034.92 41.7486 1036.91 43.2475 Q1038.89 44.7058 1044.89 46.0426 L1047.44 46.6097 Q1055.38 48.3111 1058.7 51.4303 Q1062.06 54.509 1062.06 60.0587 Q1062.06 66.3781 1057.04 70.0644 Q1052.06 73.7508 1043.31 73.7508 Q1039.66 73.7508 1035.69 73.0216 Q1031.76 72.3329 1027.39 70.9151 L1027.39 63.2184 Q1031.52 65.3654 1035.53 66.4591 Q1039.54 67.5124 1043.47 67.5124 Q1048.74 67.5124 1051.57 65.73 Q1054.41 63.9071 1054.41 60.6258 Q1054.41 57.5877 1052.34 55.9673 Q1050.32 54.3469 1043.39 52.8481 L1040.8 52.2405 Q1033.87 50.7821 1030.79 47.7845 Q1027.71 44.7463 1027.71 39.4801 Q1027.71 33.0797 1032.25 29.5959 Q1036.79 26.1121 1045.13 26.1121 Q1049.26 26.1121 1052.91 26.7198 Q1056.55 27.3274 1059.63 28.5427 Z\" fill=\"#000000\" fill-rule=\"nonzero\" fill-opacity=\"1\" /><path clip-path=\"url(#clip900)\" d=\"M1102.86 28.5427 L1102.86 35.5912 Q1099.7 33.9709 1096.29 33.1607 Q1092.89 32.3505 1089.24 32.3505 Q1083.69 32.3505 1080.9 34.0519 Q1078.15 35.7533 1078.15 39.156 Q1078.15 41.7486 1080.13 43.2475 Q1082.12 44.7058 1088.11 46.0426 L1090.66 46.6097 Q1098.6 48.3111 1101.92 51.4303 Q1105.29 54.509 1105.29 60.0587 Q1105.29 66.3781 1100.26 70.0644 Q1095.28 73.7508 1086.53 73.7508 Q1082.88 73.7508 1078.91 73.0216 Q1074.99 72.3329 1070.61 70.9151 L1070.61 63.2184 Q1074.74 65.3654 1078.75 66.4591 Q1082.76 67.5124 1086.69 67.5124 Q1091.96 67.5124 1094.79 65.73 Q1097.63 63.9071 1097.63 60.6258 Q1097.63 57.5877 1095.56 55.9673 Q1093.54 54.3469 1086.61 52.8481 L1084.02 52.2405 Q1077.09 50.7821 1074.01 47.7845 Q1070.93 44.7463 1070.93 39.4801 Q1070.93 33.0797 1075.47 29.5959 Q1080.01 26.1121 1088.35 26.1121 Q1092.49 26.1121 1096.13 26.7198 Q1099.78 27.3274 1102.86 28.5427 Z\" fill=\"#000000\" fill-rule=\"nonzero\" fill-opacity=\"1\" /><path clip-path=\"url(#clip900)\" d=\"M1138.18 27.2059 L1146.08 27.2059 L1160.26 65.2844 L1174.44 27.2059 L1182.33 27.2059 L1165.32 72.576 L1155.19 72.576 L1138.18 27.2059 Z\" fill=\"#000000\" fill-rule=\"nonzero\" fill-opacity=\"1\" /><path clip-path=\"url(#clip900)\" d=\"M1221.55 28.5427 L1221.55 35.5912 Q1218.39 33.9709 1214.98 33.1607 Q1211.58 32.3505 1207.94 32.3505 Q1202.39 32.3505 1199.59 34.0519 Q1196.84 35.7533 1196.84 39.156 Q1196.84 41.7486 1198.82 43.2475 Q1200.81 44.7058 1206.8 46.0426 L1209.35 46.6097 Q1217.29 48.3111 1220.62 51.4303 Q1223.98 54.509 1223.98 60.0587 Q1223.98 66.3781 1218.95 70.0644 Q1213.97 73.7508 1205.22 73.7508 Q1201.58 73.7508 1197.61 73.0216 Q1193.68 72.3329 1189.3 70.9151 L1189.3 63.2184 Q1193.43 65.3654 1197.44 66.4591 Q1201.45 67.5124 1205.38 67.5124 Q1210.65 67.5124 1213.49 65.73 Q1216.32 63.9071 1216.32 60.6258 Q1216.32 57.5877 1214.26 55.9673 Q1212.23 54.3469 1205.3 52.8481 L1202.71 52.2405 Q1195.78 50.7821 1192.7 47.7845 Q1189.63 44.7463 1189.63 39.4801 Q1189.63 33.0797 1194.16 29.5959 Q1198.7 26.1121 1207.05 26.1121 Q1211.18 26.1121 1214.82 26.7198 Q1218.47 27.3274 1221.55 28.5427 Z\" fill=\"#000000\" fill-rule=\"nonzero\" fill-opacity=\"1\" /><path clip-path=\"url(#clip900)\" d=\"M1236.9 62.2867 L1245.45 62.2867 L1245.45 72.576 L1236.9 72.576 L1236.9 62.2867 Z\" fill=\"#000000\" fill-rule=\"nonzero\" fill-opacity=\"1\" /><path clip-path=\"url(#clip900)\" d=\"M1288.91 12.096 L1327.15 12.096 L1327.15 18.9825 L1297.1 18.9825 L1297.1 36.8875 L1325.9 36.8875 L1325.9 43.7741 L1297.1 43.7741 L1297.1 65.6895 L1327.88 65.6895 L1327.88 72.576 L1288.91 72.576 L1288.91 12.096 Z\" fill=\"#000000\" fill-rule=\"nonzero\" fill-opacity=\"1\" /><path clip-path=\"url(#clip900)\" d=\"M1348.22 65.7705 L1348.22 89.8329 L1340.72 89.8329 L1340.72 27.2059 L1348.22 27.2059 L1348.22 34.0924 Q1350.57 30.0415 1354.13 28.0971 Q1357.74 26.1121 1362.72 26.1121 Q1370.99 26.1121 1376.13 32.6746 Q1381.31 39.2371 1381.31 49.9314 Q1381.31 60.6258 1376.13 67.1883 Q1370.99 73.7508 1362.72 73.7508 Q1357.74 73.7508 1354.13 71.8063 Q1350.57 69.8214 1348.22 65.7705 M1373.58 49.9314 Q1373.58 41.7081 1370.17 37.0496 Q1366.81 32.3505 1360.9 32.3505 Q1354.98 32.3505 1351.58 37.0496 Q1348.22 41.7081 1348.22 49.9314 Q1348.22 58.1548 1351.58 62.8538 Q1354.98 67.5124 1360.9 67.5124 Q1366.81 67.5124 1370.17 62.8538 Q1373.58 58.1548 1373.58 49.9314 Z\" fill=\"#000000\" fill-rule=\"nonzero\" fill-opacity=\"1\" /><path clip-path=\"url(#clip900)\" d=\"M1411.25 32.4315 Q1405.26 32.4315 1401.77 37.1306 Q1398.29 41.7891 1398.29 49.9314 Q1398.29 58.0738 1401.73 62.7728 Q1405.22 67.4314 1411.25 67.4314 Q1417.21 67.4314 1420.69 62.7323 Q1424.17 58.0333 1424.17 49.9314 Q1424.17 41.8701 1420.69 37.1711 Q1417.21 32.4315 1411.25 32.4315 M1411.25 26.1121 Q1420.97 26.1121 1426.52 32.4315 Q1432.07 38.7509 1432.07 49.9314 Q1432.07 61.0714 1426.52 67.4314 Q1420.97 73.7508 1411.25 73.7508 Q1401.49 73.7508 1395.94 67.4314 Q1390.43 61.0714 1390.43 49.9314 Q1390.43 38.7509 1395.94 32.4315 Q1401.49 26.1121 1411.25 26.1121 Z\" fill=\"#000000\" fill-rule=\"nonzero\" fill-opacity=\"1\" /><path clip-path=\"url(#clip900)\" d=\"M1477.08 28.9478 L1477.08 35.9153 Q1473.92 34.1734 1470.72 33.3227 Q1467.56 32.4315 1464.32 32.4315 Q1457.07 32.4315 1453.06 37.0496 Q1449.05 41.6271 1449.05 49.9314 Q1449.05 58.2358 1453.06 62.8538 Q1457.07 67.4314 1464.32 67.4314 Q1467.56 67.4314 1470.72 66.5807 Q1473.92 65.6895 1477.08 63.9476 L1477.08 70.8341 Q1473.96 72.2924 1470.6 73.0216 Q1467.28 73.7508 1463.51 73.7508 Q1453.26 73.7508 1447.22 67.3098 Q1441.19 60.8689 1441.19 49.9314 Q1441.19 38.832 1447.26 32.472 Q1453.38 26.1121 1463.99 26.1121 Q1467.44 26.1121 1470.72 26.8413 Q1474 27.5299 1477.08 28.9478 Z\" fill=\"#000000\" fill-rule=\"nonzero\" fill-opacity=\"1\" /><path clip-path=\"url(#clip900)\" d=\"M1527.76 45.1919 L1527.76 72.576 L1520.3 72.576 L1520.3 45.4349 Q1520.3 38.994 1517.79 35.7938 Q1515.28 32.5936 1510.26 32.5936 Q1504.22 32.5936 1500.74 36.4419 Q1497.25 40.2903 1497.25 46.9338 L1497.25 72.576 L1489.76 72.576 L1489.76 9.54393 L1497.25 9.54393 L1497.25 34.2544 Q1499.93 30.163 1503.53 28.1376 Q1507.18 26.1121 1511.92 26.1121 Q1519.73 26.1121 1523.74 30.9732 Q1527.76 35.7938 1527.76 45.1919 Z\" fill=\"#000000\" fill-rule=\"nonzero\" fill-opacity=\"1\" /><polyline clip-path=\"url(#clip902)\" style=\"stroke:#009af9; stroke-linecap:round; stroke-linejoin:round; stroke-width:4; stroke-opacity:1; fill:none\" points=\"173.972,162.133 409.008,280.81 644.044,256.963 879.08,415.749 1114.12,763.061 1349.15,940.355 1584.19,1450.83 1819.22,1087.61 2054.26,1122.1 2289.3,1273.52 \"/>\n",
       "</svg>\n"
      ],
      "text/html": [
       "<?xml version=\"1.0\" encoding=\"utf-8\"?>\n",
       "<svg xmlns=\"http://www.w3.org/2000/svg\" xmlns:xlink=\"http://www.w3.org/1999/xlink\" width=\"600\" height=\"400\" viewBox=\"0 0 2400 1600\">\n",
       "<defs>\n",
       "  <clipPath id=\"clip950\">\n",
       "    <rect x=\"0\" y=\"0\" width=\"2400\" height=\"1600\"/>\n",
       "  </clipPath>\n",
       "</defs>\n",
       "<path clip-path=\"url(#clip950)\" d=\"M0 1600 L2400 1600 L2400 8.88178e-14 L0 8.88178e-14  Z\" fill=\"#ffffff\" fill-rule=\"evenodd\" fill-opacity=\"1\"/>\n",
       "<defs>\n",
       "  <clipPath id=\"clip951\">\n",
       "    <rect x=\"480\" y=\"0\" width=\"1681\" height=\"1600\"/>\n",
       "  </clipPath>\n",
       "</defs>\n",
       "<path clip-path=\"url(#clip950)\" d=\"M110.512 1489.49 L2352.76 1489.49 L2352.76 123.472 L110.512 123.472  Z\" fill=\"#ffffff\" fill-rule=\"evenodd\" fill-opacity=\"1\"/>\n",
       "<defs>\n",
       "  <clipPath id=\"clip952\">\n",
       "    <rect x=\"110\" y=\"123\" width=\"2243\" height=\"1367\"/>\n",
       "  </clipPath>\n",
       "</defs>\n",
       "<polyline clip-path=\"url(#clip950)\" style=\"stroke:#000000; stroke-linecap:round; stroke-linejoin:round; stroke-width:4; stroke-opacity:1; fill:none\" points=\"110.512,1489.49 2352.76,1489.49 \"/>\n",
       "<path clip-path=\"url(#clip950)\" d=\"M1137.8 1534.99 L1167.85 1534.99 L1167.85 1540.4 L1144.23 1540.4 L1144.23 1554.47 L1166.86 1554.47 L1166.86 1559.88 L1144.23 1559.88 L1144.23 1577.1 L1168.42 1577.1 L1168.42 1582.51 L1137.8 1582.51 L1137.8 1534.99 Z\" fill=\"#000000\" fill-rule=\"nonzero\" fill-opacity=\"1\" /><path clip-path=\"url(#clip950)\" d=\"M1184.4 1577.16 L1184.4 1596.07 L1178.51 1596.07 L1178.51 1546.86 L1184.4 1546.86 L1184.4 1552.27 Q1186.25 1549.09 1189.05 1547.56 Q1191.88 1546 1195.8 1546 Q1202.29 1546 1206.33 1551.16 Q1210.4 1556.32 1210.4 1564.72 Q1210.4 1573.12 1206.33 1578.28 Q1202.29 1583.43 1195.8 1583.43 Q1191.88 1583.43 1189.05 1581.91 Q1186.25 1580.35 1184.4 1577.16 M1204.33 1564.72 Q1204.33 1558.26 1201.65 1554.6 Q1199.01 1550.91 1194.36 1550.91 Q1189.72 1550.91 1187.04 1554.6 Q1184.4 1558.26 1184.4 1564.72 Q1184.4 1571.18 1187.04 1574.87 Q1189.72 1578.53 1194.36 1578.53 Q1199.01 1578.53 1201.65 1574.87 Q1204.33 1571.18 1204.33 1564.72 Z\" fill=\"#000000\" fill-rule=\"nonzero\" fill-opacity=\"1\" /><path clip-path=\"url(#clip950)\" d=\"M1233.93 1550.97 Q1229.22 1550.97 1226.48 1554.66 Q1223.74 1558.32 1223.74 1564.72 Q1223.74 1571.12 1226.45 1574.81 Q1229.18 1578.47 1233.93 1578.47 Q1238.6 1578.47 1241.34 1574.78 Q1244.08 1571.09 1244.08 1564.72 Q1244.08 1558.39 1241.34 1554.69 Q1238.6 1550.97 1233.93 1550.97 M1233.93 1546 Q1241.56 1546 1245.93 1550.97 Q1250.29 1555.94 1250.29 1564.72 Q1250.29 1573.47 1245.93 1578.47 Q1241.56 1583.43 1233.93 1583.43 Q1226.25 1583.43 1221.89 1578.47 Q1217.57 1573.47 1217.57 1564.72 Q1217.57 1555.94 1221.89 1550.97 Q1226.25 1546 1233.93 1546 Z\" fill=\"#000000\" fill-rule=\"nonzero\" fill-opacity=\"1\" /><path clip-path=\"url(#clip950)\" d=\"M1285.65 1548.23 L1285.65 1553.71 Q1283.16 1552.34 1280.65 1551.67 Q1278.17 1550.97 1275.62 1550.97 Q1269.92 1550.97 1266.77 1554.6 Q1263.62 1558.19 1263.62 1564.72 Q1263.62 1571.24 1266.77 1574.87 Q1269.92 1578.47 1275.62 1578.47 Q1278.17 1578.47 1280.65 1577.8 Q1283.16 1577.1 1285.65 1575.73 L1285.65 1581.14 Q1283.2 1582.29 1280.55 1582.86 Q1277.94 1583.43 1274.98 1583.43 Q1266.93 1583.43 1262.19 1578.37 Q1257.45 1573.31 1257.45 1564.72 Q1257.45 1556 1262.22 1551 Q1267.03 1546 1275.37 1546 Q1278.07 1546 1280.65 1546.58 Q1283.23 1547.12 1285.65 1548.23 Z\" fill=\"#000000\" fill-rule=\"nonzero\" fill-opacity=\"1\" /><path clip-path=\"url(#clip950)\" d=\"M1325.46 1561 L1325.46 1582.51 L1319.61 1582.51 L1319.61 1561.19 Q1319.61 1556.13 1317.63 1553.61 Q1315.66 1551.1 1311.71 1551.1 Q1306.97 1551.1 1304.23 1554.12 Q1301.5 1557.14 1301.5 1562.36 L1301.5 1582.51 L1295.61 1582.51 L1295.61 1532.99 L1301.5 1532.99 L1301.5 1552.4 Q1303.6 1549.19 1306.43 1547.6 Q1309.3 1546 1313.02 1546 Q1319.16 1546 1322.31 1549.82 Q1325.46 1553.61 1325.46 1561 Z\" fill=\"#000000\" fill-rule=\"nonzero\" fill-opacity=\"1\" /><polyline clip-path=\"url(#clip950)\" style=\"stroke:#000000; stroke-linecap:round; stroke-linejoin:round; stroke-width:4; stroke-opacity:1; fill:none\" points=\"110.512,1489.49 110.512,123.472 \"/>\n",
       "<path clip-path=\"url(#clip950)\" d=\"M-23.2639 873.177 L-23.2639 866.747 L18.8453 866.747 L18.8453 843.608 L24.2561 843.608 L24.2561 873.177 L-23.2639 873.177 Z\" fill=\"#000000\" fill-rule=\"nonzero\" fill-opacity=\"1\" /><path clip-path=\"url(#clip950)\" d=\"M-7.28595 824.447 Q-7.28595 829.158 -3.59384 831.895 Q0.0664408 834.632 6.46398 834.632 Q12.8615 834.632 16.5536 831.927 Q20.2139 829.19 20.2139 824.447 Q20.2139 819.768 16.5218 817.031 Q12.8297 814.294 6.46398 814.294 Q0.130098 814.294 -3.56201 817.031 Q-7.28595 819.768 -7.28595 824.447 M-12.2512 824.447 Q-12.2512 816.808 -7.28595 812.448 Q-2.3207 808.087 6.46398 808.087 Q15.2168 808.087 20.2139 812.448 Q25.1792 816.808 25.1792 824.447 Q25.1792 832.118 20.2139 836.478 Q15.2168 840.807 6.46398 840.807 Q-2.3207 840.807 -7.28595 836.478 Q-12.2512 832.118 -12.2512 824.447 Z\" fill=\"#000000\" fill-rule=\"nonzero\" fill-opacity=\"1\" /><path clip-path=\"url(#clip950)\" d=\"M-10.3415 775.654 L-4.80332 775.654 Q-6.07647 778.137 -6.71304 780.81 Q-7.34961 783.484 -7.34961 786.348 Q-7.34961 790.709 -6.01281 792.905 Q-4.67601 795.069 -2.00241 795.069 Q0.0346123 795.069 1.21227 793.51 Q2.3581 791.95 3.40844 787.24 L3.85404 785.234 Q5.19083 778.996 7.64163 776.386 Q10.0606 773.744 14.4211 773.744 Q19.3864 773.744 22.2828 777.691 Q25.1792 781.606 25.1792 788.481 Q25.1792 791.346 24.6062 794.465 Q24.0652 797.552 22.9512 800.99 L16.9037 800.99 Q18.5906 797.743 19.45 794.592 Q20.2776 791.441 20.2776 788.354 Q20.2776 784.216 18.8771 781.988 Q17.4448 779.76 14.8667 779.76 Q12.4796 779.76 11.2064 781.383 Q9.93329 782.975 8.75563 788.417 L8.2782 790.454 Q7.13238 795.897 4.77706 798.316 Q2.38992 800.735 -1.74779 800.735 Q-6.77669 800.735 -9.51395 797.17 Q-12.2512 793.605 -12.2512 787.049 Q-12.2512 783.802 -11.7738 780.938 Q-11.2963 778.073 -10.3415 775.654 Z\" fill=\"#000000\" fill-rule=\"nonzero\" fill-opacity=\"1\" /><path clip-path=\"url(#clip950)\" d=\"M-10.3415 741.693 L-4.80332 741.693 Q-6.07647 744.176 -6.71304 746.849 Q-7.34961 749.523 -7.34961 752.387 Q-7.34961 756.748 -6.01281 758.944 Q-4.67601 761.108 -2.00241 761.108 Q0.0346123 761.108 1.21227 759.549 Q2.3581 757.989 3.40844 753.279 L3.85404 751.273 Q5.19083 745.035 7.64163 742.425 Q10.0606 739.783 14.4211 739.783 Q19.3864 739.783 22.2828 743.73 Q25.1792 747.645 25.1792 754.52 Q25.1792 757.384 24.6062 760.504 Q24.0652 763.591 22.9512 767.029 L16.9037 767.029 Q18.5906 763.782 19.45 760.631 Q20.2776 757.48 20.2776 754.393 Q20.2776 750.255 18.8771 748.027 Q17.4448 745.799 14.8667 745.799 Q12.4796 745.799 11.2064 747.422 Q9.93329 749.014 8.75563 754.456 L8.2782 756.493 Q7.13238 761.936 4.77706 764.355 Q2.38992 766.774 -1.74779 766.774 Q-6.77669 766.774 -9.51395 763.209 Q-12.2512 759.644 -12.2512 753.088 Q-12.2512 749.841 -11.7738 746.977 Q-11.2963 744.112 -10.3415 741.693 Z\" fill=\"#000000\" fill-rule=\"nonzero\" fill-opacity=\"1\" /><path clip-path=\"url(#clip950)\" d=\"M935.513 12.096 L943.696 12.096 L943.696 65.6895 L973.146 65.6895 L973.146 72.576 L935.513 72.576 L935.513 12.096 Z\" fill=\"#000000\" fill-rule=\"nonzero\" fill-opacity=\"1\" /><path clip-path=\"url(#clip950)\" d=\"M997.532 32.4315 Q991.537 32.4315 988.053 37.1306 Q984.569 41.7891 984.569 49.9314 Q984.569 58.0738 988.013 62.7728 Q991.496 67.4314 997.532 67.4314 Q1003.49 67.4314 1006.97 62.7323 Q1010.45 58.0333 1010.45 49.9314 Q1010.45 41.8701 1006.97 37.1711 Q1003.49 32.4315 997.532 32.4315 M997.532 26.1121 Q1007.25 26.1121 1012.8 32.4315 Q1018.35 38.7509 1018.35 49.9314 Q1018.35 61.0714 1012.8 67.4314 Q1007.25 73.7508 997.532 73.7508 Q987.77 73.7508 982.22 67.4314 Q976.711 61.0714 976.711 49.9314 Q976.711 38.7509 982.22 32.4315 Q987.77 26.1121 997.532 26.1121 Z\" fill=\"#000000\" fill-rule=\"nonzero\" fill-opacity=\"1\" /><path clip-path=\"url(#clip950)\" d=\"M1059.63 28.5427 L1059.63 35.5912 Q1056.47 33.9709 1053.07 33.1607 Q1049.67 32.3505 1046.02 32.3505 Q1040.47 32.3505 1037.68 34.0519 Q1034.92 35.7533 1034.92 39.156 Q1034.92 41.7486 1036.91 43.2475 Q1038.89 44.7058 1044.89 46.0426 L1047.44 46.6097 Q1055.38 48.3111 1058.7 51.4303 Q1062.06 54.509 1062.06 60.0587 Q1062.06 66.3781 1057.04 70.0644 Q1052.06 73.7508 1043.31 73.7508 Q1039.66 73.7508 1035.69 73.0216 Q1031.76 72.3329 1027.39 70.9151 L1027.39 63.2184 Q1031.52 65.3654 1035.53 66.4591 Q1039.54 67.5124 1043.47 67.5124 Q1048.74 67.5124 1051.57 65.73 Q1054.41 63.9071 1054.41 60.6258 Q1054.41 57.5877 1052.34 55.9673 Q1050.32 54.3469 1043.39 52.8481 L1040.8 52.2405 Q1033.87 50.7821 1030.79 47.7845 Q1027.71 44.7463 1027.71 39.4801 Q1027.71 33.0797 1032.25 29.5959 Q1036.79 26.1121 1045.13 26.1121 Q1049.26 26.1121 1052.91 26.7198 Q1056.55 27.3274 1059.63 28.5427 Z\" fill=\"#000000\" fill-rule=\"nonzero\" fill-opacity=\"1\" /><path clip-path=\"url(#clip950)\" d=\"M1102.86 28.5427 L1102.86 35.5912 Q1099.7 33.9709 1096.29 33.1607 Q1092.89 32.3505 1089.24 32.3505 Q1083.69 32.3505 1080.9 34.0519 Q1078.15 35.7533 1078.15 39.156 Q1078.15 41.7486 1080.13 43.2475 Q1082.12 44.7058 1088.11 46.0426 L1090.66 46.6097 Q1098.6 48.3111 1101.92 51.4303 Q1105.29 54.509 1105.29 60.0587 Q1105.29 66.3781 1100.26 70.0644 Q1095.28 73.7508 1086.53 73.7508 Q1082.88 73.7508 1078.91 73.0216 Q1074.99 72.3329 1070.61 70.9151 L1070.61 63.2184 Q1074.74 65.3654 1078.75 66.4591 Q1082.76 67.5124 1086.69 67.5124 Q1091.96 67.5124 1094.79 65.73 Q1097.63 63.9071 1097.63 60.6258 Q1097.63 57.5877 1095.56 55.9673 Q1093.54 54.3469 1086.61 52.8481 L1084.02 52.2405 Q1077.09 50.7821 1074.01 47.7845 Q1070.93 44.7463 1070.93 39.4801 Q1070.93 33.0797 1075.47 29.5959 Q1080.01 26.1121 1088.35 26.1121 Q1092.49 26.1121 1096.13 26.7198 Q1099.78 27.3274 1102.86 28.5427 Z\" fill=\"#000000\" fill-rule=\"nonzero\" fill-opacity=\"1\" /><path clip-path=\"url(#clip950)\" d=\"M1138.18 27.2059 L1146.08 27.2059 L1160.26 65.2844 L1174.44 27.2059 L1182.33 27.2059 L1165.32 72.576 L1155.19 72.576 L1138.18 27.2059 Z\" fill=\"#000000\" fill-rule=\"nonzero\" fill-opacity=\"1\" /><path clip-path=\"url(#clip950)\" d=\"M1221.55 28.5427 L1221.55 35.5912 Q1218.39 33.9709 1214.98 33.1607 Q1211.58 32.3505 1207.94 32.3505 Q1202.39 32.3505 1199.59 34.0519 Q1196.84 35.7533 1196.84 39.156 Q1196.84 41.7486 1198.82 43.2475 Q1200.81 44.7058 1206.8 46.0426 L1209.35 46.6097 Q1217.29 48.3111 1220.62 51.4303 Q1223.98 54.509 1223.98 60.0587 Q1223.98 66.3781 1218.95 70.0644 Q1213.97 73.7508 1205.22 73.7508 Q1201.58 73.7508 1197.61 73.0216 Q1193.68 72.3329 1189.3 70.9151 L1189.3 63.2184 Q1193.43 65.3654 1197.44 66.4591 Q1201.45 67.5124 1205.38 67.5124 Q1210.65 67.5124 1213.49 65.73 Q1216.32 63.9071 1216.32 60.6258 Q1216.32 57.5877 1214.26 55.9673 Q1212.23 54.3469 1205.3 52.8481 L1202.71 52.2405 Q1195.78 50.7821 1192.7 47.7845 Q1189.63 44.7463 1189.63 39.4801 Q1189.63 33.0797 1194.16 29.5959 Q1198.7 26.1121 1207.05 26.1121 Q1211.18 26.1121 1214.82 26.7198 Q1218.47 27.3274 1221.55 28.5427 Z\" fill=\"#000000\" fill-rule=\"nonzero\" fill-opacity=\"1\" /><path clip-path=\"url(#clip950)\" d=\"M1236.9 62.2867 L1245.45 62.2867 L1245.45 72.576 L1236.9 72.576 L1236.9 62.2867 Z\" fill=\"#000000\" fill-rule=\"nonzero\" fill-opacity=\"1\" /><path clip-path=\"url(#clip950)\" d=\"M1288.91 12.096 L1327.15 12.096 L1327.15 18.9825 L1297.1 18.9825 L1297.1 36.8875 L1325.9 36.8875 L1325.9 43.7741 L1297.1 43.7741 L1297.1 65.6895 L1327.88 65.6895 L1327.88 72.576 L1288.91 72.576 L1288.91 12.096 Z\" fill=\"#000000\" fill-rule=\"nonzero\" fill-opacity=\"1\" /><path clip-path=\"url(#clip950)\" d=\"M1348.22 65.7705 L1348.22 89.8329 L1340.72 89.8329 L1340.72 27.2059 L1348.22 27.2059 L1348.22 34.0924 Q1350.57 30.0415 1354.13 28.0971 Q1357.74 26.1121 1362.72 26.1121 Q1370.99 26.1121 1376.13 32.6746 Q1381.31 39.2371 1381.31 49.9314 Q1381.31 60.6258 1376.13 67.1883 Q1370.99 73.7508 1362.72 73.7508 Q1357.74 73.7508 1354.13 71.8063 Q1350.57 69.8214 1348.22 65.7705 M1373.58 49.9314 Q1373.58 41.7081 1370.17 37.0496 Q1366.81 32.3505 1360.9 32.3505 Q1354.98 32.3505 1351.58 37.0496 Q1348.22 41.7081 1348.22 49.9314 Q1348.22 58.1548 1351.58 62.8538 Q1354.98 67.5124 1360.9 67.5124 Q1366.81 67.5124 1370.17 62.8538 Q1373.58 58.1548 1373.58 49.9314 Z\" fill=\"#000000\" fill-rule=\"nonzero\" fill-opacity=\"1\" /><path clip-path=\"url(#clip950)\" d=\"M1411.25 32.4315 Q1405.26 32.4315 1401.77 37.1306 Q1398.29 41.7891 1398.29 49.9314 Q1398.29 58.0738 1401.73 62.7728 Q1405.22 67.4314 1411.25 67.4314 Q1417.21 67.4314 1420.69 62.7323 Q1424.17 58.0333 1424.17 49.9314 Q1424.17 41.8701 1420.69 37.1711 Q1417.21 32.4315 1411.25 32.4315 M1411.25 26.1121 Q1420.97 26.1121 1426.52 32.4315 Q1432.07 38.7509 1432.07 49.9314 Q1432.07 61.0714 1426.52 67.4314 Q1420.97 73.7508 1411.25 73.7508 Q1401.49 73.7508 1395.94 67.4314 Q1390.43 61.0714 1390.43 49.9314 Q1390.43 38.7509 1395.94 32.4315 Q1401.49 26.1121 1411.25 26.1121 Z\" fill=\"#000000\" fill-rule=\"nonzero\" fill-opacity=\"1\" /><path clip-path=\"url(#clip950)\" d=\"M1477.08 28.9478 L1477.08 35.9153 Q1473.92 34.1734 1470.72 33.3227 Q1467.56 32.4315 1464.32 32.4315 Q1457.07 32.4315 1453.06 37.0496 Q1449.05 41.6271 1449.05 49.9314 Q1449.05 58.2358 1453.06 62.8538 Q1457.07 67.4314 1464.32 67.4314 Q1467.56 67.4314 1470.72 66.5807 Q1473.92 65.6895 1477.08 63.9476 L1477.08 70.8341 Q1473.96 72.2924 1470.6 73.0216 Q1467.28 73.7508 1463.51 73.7508 Q1453.26 73.7508 1447.22 67.3098 Q1441.19 60.8689 1441.19 49.9314 Q1441.19 38.832 1447.26 32.472 Q1453.38 26.1121 1463.99 26.1121 Q1467.44 26.1121 1470.72 26.8413 Q1474 27.5299 1477.08 28.9478 Z\" fill=\"#000000\" fill-rule=\"nonzero\" fill-opacity=\"1\" /><path clip-path=\"url(#clip950)\" d=\"M1527.76 45.1919 L1527.76 72.576 L1520.3 72.576 L1520.3 45.4349 Q1520.3 38.994 1517.79 35.7938 Q1515.28 32.5936 1510.26 32.5936 Q1504.22 32.5936 1500.74 36.4419 Q1497.25 40.2903 1497.25 46.9338 L1497.25 72.576 L1489.76 72.576 L1489.76 9.54393 L1497.25 9.54393 L1497.25 34.2544 Q1499.93 30.163 1503.53 28.1376 Q1507.18 26.1121 1511.92 26.1121 Q1519.73 26.1121 1523.74 30.9732 Q1527.76 35.7938 1527.76 45.1919 Z\" fill=\"#000000\" fill-rule=\"nonzero\" fill-opacity=\"1\" /><polyline clip-path=\"url(#clip952)\" style=\"stroke:#009af9; stroke-linecap:round; stroke-linejoin:round; stroke-width:4; stroke-opacity:1; fill:none\" points=\"173.972,162.133 409.008,280.81 644.044,256.963 879.08,415.749 1114.12,763.061 1349.15,940.355 1584.19,1450.83 1819.22,1087.61 2054.26,1122.1 2289.3,1273.52 \"/>\n",
       "</svg>\n"
      ]
     },
     "metadata": {},
     "output_type": "display_data"
    }
   ],
   "source": [
    "p1 = plot(1:epochs, loss_list, xlabel=\"Epoch\", ylabel=\"Loss\", title=\"Loss vs. Epoch\", legend=false, xticks=false, yticks=false)\n",
    "display(p1)"
   ]
  },
  {
   "cell_type": "code",
   "execution_count": 70,
   "metadata": {},
   "outputs": [
    {
     "name": "stdout",
     "output_type": "stream",
     "text": [
      "Test Accuracy: 0.7236\n"
     ]
    }
   ],
   "source": [
    "#visualize_layers(model, train_x[:, :, :, 1:1])\n",
    "\n",
    "accuracy(x, y) = mean(onecold(model(x)) .== onecold(y))\n",
    "println(\"Test Accuracy: \", accuracy(test_X, test_y))\n"
   ]
  }
 ],
 "metadata": {
  "kernelspec": {
   "display_name": "Julia 1.11.2",
   "language": "julia",
   "name": "julia-1.11"
  },
  "language_info": {
   "file_extension": ".jl",
   "mimetype": "application/julia",
   "name": "julia",
   "version": "1.11.2"
  }
 },
 "nbformat": 4,
 "nbformat_minor": 2
}
